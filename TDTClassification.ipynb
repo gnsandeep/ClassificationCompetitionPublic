{
 "cells": [
  {
   "cell_type": "code",
   "execution_count": 2,
   "metadata": {},
   "outputs": [],
   "source": [
    "import json\n",
    "import numpy as np\n",
    "from keras.models import Model\n",
    "from keras.layers import Dense, Input, Dropout, LSTM, Activation\n",
    "from keras.layers.embeddings import Embedding\n",
    "from keras.preprocessing import sequence\n",
    "from keras.initializers import glorot_uniform\n",
    "import os\n",
    "import tensorflow as tf\n",
    "from tensorflow import keras\n",
    "\n",
    "\n",
    "os.environ['KMP_DUPLICATE_LIB_OK']='True'"
   ]
  },
  {
   "cell_type": "code",
   "execution_count": 3,
   "metadata": {},
   "outputs": [],
   "source": [
    "def read_glove_vecs(glove_file):\n",
    "    with open(glove_file, 'r') as f:\n",
    "        words = set()\n",
    "        word_to_vec_map = {}\n",
    "        for line in f:\n",
    "            line = line.strip().split()\n",
    "            curr_word = line[0]\n",
    "            words.add(curr_word)\n",
    "            word_to_vec_map[curr_word] = np.array(line[1:], dtype=np.float64)\n",
    "        \n",
    "        i = 1\n",
    "        words_to_index = {}\n",
    "        index_to_words = {}\n",
    "        for w in sorted(words):\n",
    "            words_to_index[w] = i\n",
    "            index_to_words[i] = w\n",
    "            i = i + 1\n",
    "    return words_to_index, index_to_words, word_to_vec_map"
   ]
  },
  {
   "cell_type": "code",
   "execution_count": 4,
   "metadata": {},
   "outputs": [],
   "source": [
    "def convert_to_one_hot(Y, C):\n",
    "    Y = np.eye(C)[Y.reshape(-1)]\n",
    "    return Y"
   ]
  },
  {
   "cell_type": "code",
   "execution_count": 5,
   "metadata": {},
   "outputs": [],
   "source": [
    "def sentences_to_indices(X, word_to_index, max_len):\n",
    "    \"\"\"\n",
    "    Converts an array of sentences (strings) into an array of indices corresponding to words in the sentences.\n",
    "    The output shape should be such that it can be given to `Embedding()` (described in Figure 4). \n",
    "    \n",
    "    Arguments:\n",
    "    X -- array of sentences (strings), of shape (m, 1)\n",
    "    word_to_index -- a dictionary containing the each word mapped to its index\n",
    "    max_len -- maximum number of words in a sentence. You can assume every sentence in X is no longer than this. \n",
    "    \n",
    "    Returns:\n",
    "    X_indices -- array of indices corresponding to words in the sentences from X, of shape (m, max_len)\n",
    "    \"\"\"\n",
    "    \n",
    "    m = X.shape[0]                                   # number of training examples\n",
    "    \n",
    "    ### START CODE HERE ###\n",
    "    # Initialize X_indices as a numpy matrix of zeros and the correct shape (≈ 1 line)\n",
    "    X_indices = np.zeros((m,max_len))\n",
    "    \n",
    "    for i in range(m):                               # loop over training examples\n",
    "        \n",
    "        # Convert the ith training sentence in lower case and split is into words. You should get a list of words.\n",
    "        sentence_words =X[i].lower().split()\n",
    "        \n",
    "        # Initialize j to 0\n",
    "        j = 0\n",
    "        \n",
    "        # Loop over the words of sentence_words\n",
    "        for w in sentence_words:\n",
    "            # Set the (i,j)th entry of X_indices to the index of the correct word.\n",
    "            if w in word_to_index:\n",
    "                X_indices[i, j] = word_to_index[w]\n",
    "            else:\n",
    "                X_indices[i, j] = word_to_index[\"unk\"]\n",
    "            # Increment j to j + 1\n",
    "            j = j + 1\n",
    "            \n",
    "    ### END CODE HERE ###\n",
    "    \n",
    "    return X_indices"
   ]
  },
  {
   "cell_type": "code",
   "execution_count": 6,
   "metadata": {},
   "outputs": [],
   "source": [
    "def pretrained_embedding_layer(word_to_vec_map, word_to_index):\n",
    "    \"\"\"\n",
    "    Creates a Keras Embedding() layer and loads in pre-trained GloVe 50-dimensional vectors.\n",
    "    \n",
    "    Arguments:\n",
    "    word_to_vec_map -- dictionary mapping words to their GloVe vector representation.\n",
    "    word_to_index -- dictionary mapping from words to their indices in the vocabulary (400,001 words)\n",
    "\n",
    "    Returns:\n",
    "    embedding_layer -- pretrained layer Keras instance\n",
    "    \"\"\"\n",
    "    \n",
    "    vocab_len = len(word_to_index) + 1                  # adding 1 to fit Keras embedding (requirement)\n",
    "    emb_dim = word_to_vec_map[\"cucumber\"].shape[0]      # define dimensionality of your GloVe word vectors (= 50)\n",
    "    \n",
    "    ### START CODE HERE ###\n",
    "    # Initialize the embedding matrix as a numpy array of zeros of shape (vocab_len, dimensions of word vectors = emb_dim)\n",
    "    emb_matrix = np.zeros((vocab_len,emb_dim))\n",
    "    \n",
    "    # Set each row \"index\" of the embedding matrix to be the word vector representation of the \"index\"th word of the vocabulary\n",
    "    for word, index in word_to_index.items():\n",
    "        emb_matrix[index, :] = word_to_vec_map[word]\n",
    "\n",
    "    # Define Keras embedding layer with the correct output/input sizes, make it non-trainable. Use Embedding(...). Make sure to set trainable=False. \n",
    "    embedding_layer = Embedding(vocab_len, emb_dim, trainable=False)\n",
    "    ### END CODE HERE ###\n",
    "\n",
    "    # Build the embedding layer, it is required before setting the weights of the embedding layer. Do not modify the \"None\".\n",
    "    embedding_layer.build((None,))\n",
    "    \n",
    "    # Set the weights of the embedding layer to the embedding matrix. Your layer is now pretrained.\n",
    "    embedding_layer.set_weights([emb_matrix])\n",
    "    \n",
    "    return embedding_layer"
   ]
  },
  {
   "cell_type": "code",
   "execution_count": 7,
   "metadata": {},
   "outputs": [],
   "source": [
    "    def TextClassifier(input_shape, word_to_vec_map, word_to_index):\n",
    "        \"\"\"\n",
    "        Function creating the Emojify-v2 model's graph.\n",
    "\n",
    "        Arguments:\n",
    "        input_shape -- shape of the input, usually (max_len,)\n",
    "        word_to_vec_map -- dictionary mapping every word in a vocabulary into its 50-dimensional vector representation\n",
    "        word_to_index -- dictionary mapping from words to their indices in the vocabulary (400,001 words)\n",
    "\n",
    "        Returns:\n",
    "        model -- a model instance in Keras\n",
    "        \"\"\"\n",
    "\n",
    "        ### START CODE HERE ###\n",
    "        # Define sentence_indices as the input of the graph, it should be of shape input_shape and dtype 'int32' (as it contains indices).\n",
    "        sentence_indices = Input(input_shape, dtype='int32')\n",
    "\n",
    "        # Create the embedding layer pretrained with GloVe Vectors (≈1 line)\n",
    "        embedding_layer = pretrained_embedding_layer(word_to_vec_map, word_to_index)\n",
    "\n",
    "        # Propagate sentence_indices through your embedding layer, you get back the embeddings\n",
    "        embeddings = embedding_layer(sentence_indices)   \n",
    "\n",
    "        # Propagate the embeddings through an LSTM layer with 128-dimensional hidden state\n",
    "        # Be careful, the returned output should be a batch of sequences.\n",
    "        X = LSTM(128, return_sequences=True)(embeddings)\n",
    "        # Add dropout with a probability of 0.5\n",
    "        X = Dropout(0.5)(X)\n",
    "        # Propagate X trough another LSTM layer with 128-dimensional hidden state\n",
    "        # Be careful, the returned output should be a single hidden state, not a batch of sequences.\n",
    "        X = LSTM(128, return_sequences=False)(X)\n",
    "        # Add dropout with a probability of 0.5\n",
    "        X = Dropout(0.5)(X)\n",
    "        # Propagate X through a Dense layer with softmax activation to get back a batch of 5-dimensional vectors.\n",
    "        X = Dense(2)(X)\n",
    "        # Add a softmax activation\n",
    "        X = Activation('softmax')(X)\n",
    "\n",
    "        # Create Model instance which converts sentence_indices into X.\n",
    "        model = Model(inputs=sentence_indices, outputs=X)\n",
    "\n",
    "        ### END CODE HERE ###\n",
    "\n",
    "        return model"
   ]
  },
  {
   "cell_type": "code",
   "execution_count": 10,
   "metadata": {},
   "outputs": [],
   "source": [
    "def load_training_data(filename = 'data/SARCASM.json',maxLength = 200):\n",
    "    X = []\n",
    "    Y = []\n",
    "    fhand = open(filename,encoding='utf8')\n",
    "    for line in fhand:\n",
    "        data = json.loads(line)\n",
    "        fullTweet_ = data['context'] +  list(data['response'].split(\" \"))\n",
    "        #print(len(fullTweet_))\n",
    "        #print(type(fullTweet_[-maxLength:]))\n",
    "        #fullTweet = ''.join(data['context'])+  data['response']\n",
    "        #if len(fullTweet) > maxLength:\n",
    "        #    fullTweet = fullTweet[-maxLength:]\n",
    "        #fullTweet = fullTweet.replace(\"@USER\",\"\").replace(\"isn't\",\"\")\n",
    "        #X.append(fullTweet)\n",
    "        x_ = ''.join(fullTweet_[-maxLength:])\n",
    "        #if len(x_) > maxLength:\n",
    "        #    print(\"Len x_ :\",len(x_))\n",
    "        X.append(x_)\n",
    "        if data['label'] == 'SARCASM':\n",
    "            Y.append(1)\n",
    "        else:\n",
    "            Y.append(0)\n",
    "            \n",
    "    maxLen = len(max(X, key=len).split())\n",
    "    minLen = len(min(X,key=len).split())\n",
    "    #print(minLen)\n",
    "    \n",
    "    seed = 1337\n",
    "    rng = np.random.RandomState(seed)\n",
    "    rng.shuffle(X)\n",
    "    rng = np.random.RandomState(seed)\n",
    "    rng.shuffle(Y)\n",
    "    \n",
    "    validation_split = 0.2\n",
    "    num_validation_samples = int(validation_split * len(X))\n",
    "    train_samples = X[:-num_validation_samples]\n",
    "    val_samples = X[-num_validation_samples:]\n",
    "    train_labels = Y[:-num_validation_samples]\n",
    "    val_labels = Y[-num_validation_samples:]\n",
    "    \n",
    "    #print(len(train_samples))\n",
    "    #print(len(val_samples))\n",
    "    #print(len(train_labels))\n",
    "    #print(len(val_labels))\n",
    "    \n",
    "    #X_train = np.asarray(X[0:3000])\n",
    "    #Y_train = np.asarray(Y[0:3000], dtype=int)\n",
    "    #X_test = np.asarray(X[3000:5000])\n",
    "    #Y_test = np.asarray(Y[3000:5000], dtype=int)\n",
    "    X_train = np.asarray(train_samples)\n",
    "    Y_train = np.asarray(train_labels, dtype=int)\n",
    "    X_test = np.asarray(val_samples)\n",
    "    Y_test = np.asarray(val_labels, dtype=int)\n",
    "    return X_train,Y_train,X_test,Y_test,maxLen"
   ]
  },
  {
   "cell_type": "code",
   "execution_count": 11,
   "metadata": {},
   "outputs": [
    {
     "name": "stdout",
     "output_type": "stream",
     "text": [
      "969\n"
     ]
    }
   ],
   "source": [
    "X_train,Y_train,X_test,Y_test,maxLen = load_training_data('data/train.jsonl',35)\n",
    "#X_train,Y_train,X_test,Y_test,maxLen = load_training_data()\n",
    "word_to_index, index_to_word, word_to_vec_map = read_glove_vecs('data/glove.6B.50d.txt')\n",
    "print(maxLen)"
   ]
  },
  {
   "cell_type": "code",
   "execution_count": 12,
   "metadata": {},
   "outputs": [],
   "source": [
    "#print(maxLen)\n",
    "#maxLen=1213\n",
    "X_train_indices = sentences_to_indices(X_train, word_to_index, maxLen)\n",
    "X_test_indices = sentences_to_indices(X_test, word_to_index, maxLen)"
   ]
  },
  {
   "cell_type": "code",
   "execution_count": 13,
   "metadata": {},
   "outputs": [],
   "source": [
    "Y_train_oh = convert_to_one_hot(Y_train, C = 2)\n",
    "Y_test_oh = convert_to_one_hot(Y_test, C = 2)"
   ]
  },
  {
   "cell_type": "code",
   "execution_count": 14,
   "metadata": {},
   "outputs": [
    {
     "name": "stdout",
     "output_type": "stream",
     "text": [
      "969\n",
      "4000\n",
      "1000\n",
      "4000\n",
      "1000\n"
     ]
    },
    {
     "data": {
      "text/plain": [
       "array([[1., 0.],\n",
       "       [1., 0.],\n",
       "       [1., 0.],\n",
       "       ...,\n",
       "       [0., 1.],\n",
       "       [1., 0.],\n",
       "       [1., 0.]])"
      ]
     },
     "execution_count": 14,
     "metadata": {},
     "output_type": "execute_result"
    }
   ],
   "source": [
    "print(maxLen)\n",
    "print(len(X_train))\n",
    "print(len(X_test))\n",
    "print(len(Y_train))          \n",
    "print(len(Y_test))\n",
    "Y_train_oh"
   ]
  },
  {
   "cell_type": "code",
   "execution_count": 15,
   "metadata": {},
   "outputs": [
    {
     "name": "stdout",
     "output_type": "stream",
     "text": [
      "Model: \"model_1\"\n",
      "_________________________________________________________________\n",
      "Layer (type)                 Output Shape              Param #   \n",
      "=================================================================\n",
      "input_1 (InputLayer)         (None, 969)               0         \n",
      "_________________________________________________________________\n",
      "embedding_1 (Embedding)      (None, 969, 50)           20000050  \n",
      "_________________________________________________________________\n",
      "lstm_1 (LSTM)                (None, 969, 128)          91648     \n",
      "_________________________________________________________________\n",
      "dropout_1 (Dropout)          (None, 969, 128)          0         \n",
      "_________________________________________________________________\n",
      "lstm_2 (LSTM)                (None, 128)               131584    \n",
      "_________________________________________________________________\n",
      "dropout_2 (Dropout)          (None, 128)               0         \n",
      "_________________________________________________________________\n",
      "dense_1 (Dense)              (None, 2)                 258       \n",
      "_________________________________________________________________\n",
      "activation_1 (Activation)    (None, 2)                 0         \n",
      "=================================================================\n",
      "Total params: 20,223,540\n",
      "Trainable params: 223,490\n",
      "Non-trainable params: 20,000,050\n",
      "_________________________________________________________________\n"
     ]
    }
   ],
   "source": [
    "model = TextClassifier((maxLen,), word_to_vec_map, word_to_index)\n",
    "model.summary()"
   ]
  },
  {
   "cell_type": "code",
   "execution_count": 16,
   "metadata": {},
   "outputs": [],
   "source": [
    "model.compile(loss='categorical_crossentropy', optimizer='adam', metrics=['accuracy'])"
   ]
  },
  {
   "cell_type": "code",
   "execution_count": null,
   "metadata": {},
   "outputs": [
    {
     "name": "stdout",
     "output_type": "stream",
     "text": [
      "WARNING:tensorflow:From /Users/gnsandeep/anaconda3/lib/python3.7/site-packages/keras/backend/tensorflow_backend.py:422: The name tf.global_variables is deprecated. Please use tf.compat.v1.global_variables instead.\n",
      "\n",
      "Epoch 1/7\n",
      "4000/4000 [==============================] - 733s 183ms/step - loss: 0.6944 - accuracy: 0.5058\n",
      "Epoch 2/7\n",
      "3840/4000 [===========================>..] - ETA: 31s - loss: 0.6938 - accuracy: 0.5010"
     ]
    }
   ],
   "source": [
    "model.fit(X_train_indices, Y_train_oh, epochs = 7, batch_size = 32, shuffle=True)"
   ]
  },
  {
   "cell_type": "code",
   "execution_count": null,
   "metadata": {},
   "outputs": [],
   "source": [
    "model.save('FirstModel_Oct19')"
   ]
  },
  {
   "cell_type": "code",
   "execution_count": null,
   "metadata": {},
   "outputs": [],
   "source": [
    "modeltrained = keras.models.load_model('FirstModel')"
   ]
  },
  {
   "cell_type": "code",
   "execution_count": null,
   "metadata": {},
   "outputs": [],
   "source": [
    "score,acc = modeltrained.evaluate(X_test_indices, Y_test, verbose = 2, batch_size = 16)"
   ]
  },
  {
   "cell_type": "code",
   "execution_count": null,
   "metadata": {},
   "outputs": [],
   "source": [
    "print(\"Test accuracy = \", acc)"
   ]
  },
  {
   "cell_type": "code",
   "execution_count": null,
   "metadata": {},
   "outputs": [],
   "source": [
    "score,acc = modeltrained.evaluate(X_train_indices, Y_train_oh)"
   ]
  },
  {
   "cell_type": "code",
   "execution_count": null,
   "metadata": {},
   "outputs": [],
   "source": [
    "score,acc = modeltrained.evaluate(X_test_indices, Y_test_oh)"
   ]
  },
  {
   "cell_type": "code",
   "execution_count": null,
   "metadata": {},
   "outputs": [],
   "source": [
    "X_test[2]"
   ]
  },
  {
   "cell_type": "code",
   "execution_count": null,
   "metadata": {},
   "outputs": [],
   "source": [
    "np.count_nonzero(Y_test == 1)"
   ]
  },
  {
   "cell_type": "code",
   "execution_count": null,
   "metadata": {},
   "outputs": [],
   "source": []
  }
 ],
 "metadata": {
  "kernelspec": {
   "display_name": "Python 3",
   "language": "python",
   "name": "python3"
  },
  "language_info": {
   "codemirror_mode": {
    "name": "ipython",
    "version": 3
   },
   "file_extension": ".py",
   "mimetype": "text/x-python",
   "name": "python",
   "nbconvert_exporter": "python",
   "pygments_lexer": "ipython3",
   "version": "3.7.3"
  }
 },
 "nbformat": 4,
 "nbformat_minor": 2
}
